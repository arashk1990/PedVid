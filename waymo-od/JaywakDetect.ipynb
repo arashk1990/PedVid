{
 "cells": [
  {
   "cell_type": "code",
   "execution_count": 1,
   "metadata": {},
   "outputs": [],
   "source": [
    "import pickle\n",
    "import time\n",
    "import pandas as pd\n",
    "import numpy as np\n",
    "import matplotlib.pyplot as plt\n",
    "import itertools\n",
    "import shutil\n",
    "import math"
   ]
  },
  {
   "cell_type": "code",
   "execution_count": 2,
   "metadata": {},
   "outputs": [],
   "source": [
    "with open('./PedTables/AllPeds.p', 'rb') as fp:\n",
    "    AllPeds = pickle.load(fp)"
   ]
  },
  {
   "cell_type": "code",
   "execution_count": 3,
   "metadata": {},
   "outputs": [
    {
     "data": {
      "text/plain": [
       "23056"
      ]
     },
     "execution_count": 3,
     "metadata": {},
     "output_type": "execute_result"
    }
   ],
   "source": [
    "PedIDs = list(AllPeds.keys())\n",
    "len(PedIDs)"
   ]
  },
  {
   "cell_type": "code",
   "execution_count": 64,
   "metadata": {},
   "outputs": [],
   "source": []
  },
  {
   "cell_type": "code",
   "execution_count": 97,
   "metadata": {},
   "outputs": [],
   "source": [
    "def BothSides(df,axis):       #ped appears on both side of the car axis?\n",
    "    ped = list(df[axis])\n",
    "    if np.sign(max(ped)*min(ped)) == 1:\n",
    "        both = 0\n",
    "    else:\n",
    "        both = 1\n",
    "    return both\n",
    "\n",
    "def FrontCross(df):     #ped is in front of car when crossing?\n",
    "    zero = min((df['y']), key = abs) #closest y to zero (SDC y is 0)\n",
    "    dist = df[df['y']==zero]['x'].values[0]\n",
    "    if abs(zero)<1:\n",
    "        if (dist>2) & (dist<50):\n",
    "            front = 1\n",
    "        else:\n",
    "            front = 0\n",
    "    else:\n",
    "        front = 0\n",
    "    return front\n",
    "\n",
    "# checks if the pedestrian moves at least dst meters\n",
    "def MinWalk(df,dst): \n",
    "    #xVeh = df['x_GF_SDC']\n",
    "    #yVeh = df['y_GF_SDC']\n",
    "    xPed =  df['px_GF']\n",
    "    yPed =  df['py_GF']\n",
    "    X = xPed[len(xPed)-1] - xPed[0]\n",
    "    Y = yPed[len(yPed)-1] - yPed[0]\n",
    "    walked = np.sqrt(X**2+Y**2)\n",
    "    if walked < dst:\n",
    "        walking = 0\n",
    "    else:\n",
    "        walking = 1\n",
    "    return walking\n",
    "\n",
    "# checks if the pedestrian moves in front of the car\n",
    "def MoveCenter(df): \n",
    "    zero = min((df['y']), key = abs) #closest y to zero (SDC y is 0)\n",
    "    ID = df[df['y'] == zero].index[0]\n",
    "    SxPed = df.iloc[ID]['Speed x']\n",
    "    SyPed = df.iloc[ID]['Speed y']\n",
    "    walked = np.sqrt(SxPed**2+SyPed**2)\n",
    "    \n",
    "    if walked < 0.5:  #m/s\n",
    "        walking = 0\n",
    "    else:\n",
    "        walking = 1\n",
    "        \n",
    "    return walking\n",
    "\n",
    "#angle between car and ped when ped is located in front of the car\n",
    "def angle(df,thrsh):     \n",
    "    zero = min((df['y']), key = abs) #closest y to zero (SDC y is 0)\n",
    "    IDmin = df[df['y'] == zero].index[0]\n",
    "    #x0Ped = df.iloc[IDmin]['px_GF']\n",
    "    #y0Ped = df.iloc[IDmin]['py_GF']\n",
    "    #x0Veh = df.iloc[IDmin]['x_GF_SDC']\n",
    "    #y0Veh = df.iloc[IDmin]['y_GF_SDC']\n",
    "    \n",
    "    ID1 = IDmin - 5\n",
    "    ID2 = IDmin + 5\n",
    "    if ID2>(df.shape[0]-1):\n",
    "        ID2 = df.shape[0]-1\n",
    "    x1Ped = df.iloc[ID1]['px_GF']\n",
    "    y1Ped = df.iloc[ID1]['py_GF']\n",
    "    x1Veh = df.iloc[ID1]['x_GF_SDC']\n",
    "    y1Veh = df.iloc[ID1]['y_GF_SDC']\n",
    "    \n",
    "    x2Ped = df.iloc[ID2]['px_GF']\n",
    "    y2Ped = df.iloc[ID2]['py_GF']\n",
    "    x2Veh = df.iloc[ID2]['x_GF_SDC']\n",
    "    y2Veh = df.iloc[ID2]['y_GF_SDC']\n",
    "    \n",
    "    deltaYPed = y2Ped - y1Ped\n",
    "    deltaXPed = x2Ped - x1Ped\n",
    "    anglePed = math.atan2(deltaYPed,deltaXPed)*180/math.pi\n",
    "    \n",
    "    deltaYVeh = y2Veh - y1Veh\n",
    "    deltaXVeh = x2Veh - x1Veh\n",
    "    angleVeh = math.atan2(deltaYVeh,deltaXVeh)*180/math.pi\n",
    "    ang = abs(anglePed-angleVeh)\n",
    "    if (ang<(90+thrsh) and ang>(90-thrsh)) or (ang<(270+thrsh) and ang>(270-thrsh)):\n",
    "        jay = 1\n",
    "    else:\n",
    "        jay = 0\n",
    "    return (jay,ang)\n",
    "\n",
    "#Change in vehiclles direction \n",
    "def angleCar(df,thrsh):     \n",
    "    Size = df.shape[0]-1\n",
    "    #x0Ped = df.iloc[IDmin]['px_GF']\n",
    "    #y0Ped = df.iloc[IDmin]['py_GF']\n",
    "    #x0Veh = df.iloc[IDmin]['x_GF_SDC']\n",
    "    #y0Veh = df.iloc[IDmin]['y_GF_SDC']\n",
    "    ID0 = 0\n",
    "    IDmax = Size\n",
    "    IDmid = int(IDmax/2)\n",
    "\n",
    "    x0 = df.iloc[ID0]['x_GF_SDC']\n",
    "    y0 = df.iloc[ID0]['y_GF_SDC']\n",
    "    \n",
    "    xmax = df.iloc[IDmax]['x_GF_SDC']\n",
    "    ymax = df.iloc[IDmax]['y_GF_SDC']\n",
    "    \n",
    "    xmid = df.iloc[IDmid]['x_GF_SDC']\n",
    "    ymid = df.iloc[IDmid]['y_GF_SDC']\n",
    "    \n",
    "    deltaY0 = ymid - y0\n",
    "    deltaX0 = xmid - x0\n",
    "    angle0 = math.atan2(deltaY0,deltaX0)*180/math.pi\n",
    "    \n",
    "    deltaY1 = ymax - ymid\n",
    "    deltaX1 = xmax - xmid\n",
    "    angle1 = math.atan2(deltaY1,deltaX1)*180/math.pi\n",
    "    \n",
    "    ang = abs(angle1-angle0)\n",
    "    \n",
    "    if (ang<thrsh):\n",
    "        straight = 1\n",
    "    else:\n",
    "        straight = 0\n",
    "    return (straight,ang)\n",
    "\n",
    "#check if the ped and SDC cross the same point( with tolerance)\n",
    "def ifintersect(df,tol):\n",
    "    \n",
    "    array1 = np.array([[x, y] for x, y in zip(df['x_GF_SDC'], df['y_GF_SDC'])])\n",
    "\n",
    "    array2 = np.array([[x, y] for x, y in zip(df['px_GF'], df['py_GF'])])\n",
    "\n",
    "    output = np.empty((0,2))\n",
    "    for i0, i1 in itertools.product(np.arange(array1.shape[0]),\n",
    "                                    np.arange(array2.shape[0])):\n",
    "        if np.all(np.isclose(array1[i0], array2[i1], atol=tol)):\n",
    "             output = np.concatenate((output, [array2[i1]]), axis=0)\n",
    "    if len(output>0):\n",
    "        close = 1\n",
    "    else:\n",
    "        close = 0\n",
    "    return close"
   ]
  },
  {
   "cell_type": "code",
   "execution_count": 41,
   "metadata": {},
   "outputs": [],
   "source": [
    "### F1: Filter 1: ped is detected in front of the car\n",
    "### F2: Filter 2: ped is seen on left and right side of the car\n",
    "### F3: Filter 3: ped is moving in the frame\n",
    "### F4: Filter 4: ped is moving when in front of the car\n",
    "### F5: Filter 5: ped and vehcile angle is below a threshold\n",
    "### F6: Filter 6: vehcile change in direction angle is below a threshold\n",
    "### F7: Filter 7: ped and vehicle have intersecting trajectories, path a same point"
   ]
  },
  {
   "cell_type": "code",
   "execution_count": 98,
   "metadata": {},
   "outputs": [
    {
     "data": {
      "text/plain": [
       "1182"
      ]
     },
     "execution_count": 98,
     "metadata": {},
     "output_type": "execute_result"
    }
   ],
   "source": [
    "F1 = {k : v for k, v in AllPeds.items() if FrontCross(v) == 1} #ped is detected in front of the car\n",
    "F1IDs = list(F1.keys())\n",
    "\n",
    "len(F1IDs)"
   ]
  },
  {
   "cell_type": "code",
   "execution_count": 99,
   "metadata": {},
   "outputs": [
    {
     "data": {
      "text/plain": [
       "280"
      ]
     },
     "execution_count": 99,
     "metadata": {},
     "output_type": "execute_result"
    }
   ],
   "source": [
    "F12 = {k : v for k, v in F1.items() if BothSides(v,'x') == 1} #left and right\n",
    "F12IDs = list(F12.keys())\n",
    "\n",
    "len(F12IDs)"
   ]
  },
  {
   "cell_type": "code",
   "execution_count": 100,
   "metadata": {},
   "outputs": [
    {
     "data": {
      "text/plain": [
       "211"
      ]
     },
     "execution_count": 100,
     "metadata": {},
     "output_type": "execute_result"
    }
   ],
   "source": [
    "F123 = {k : v for k, v in F12.items() if MinWalk(v,1.5) == 1} #Pedestrian is not stationary\n",
    "F123IDs = list(F123.keys())\n",
    "\n",
    "len(F123IDs)"
   ]
  },
  {
   "cell_type": "code",
   "execution_count": 101,
   "metadata": {},
   "outputs": [
    {
     "data": {
      "text/plain": [
       "180"
      ]
     },
     "execution_count": 101,
     "metadata": {},
     "output_type": "execute_result"
    }
   ],
   "source": [
    "F1234 = {k : v for k, v in F123.items() if MoveCenter(v) == 1} #Pedestrian is not stationary in y=0\n",
    "F1234IDs = list(F1234.keys())\n",
    "\n",
    "len(F1234IDs)"
   ]
  },
  {
   "cell_type": "code",
   "execution_count": null,
   "metadata": {},
   "outputs": [],
   "source": []
  },
  {
   "cell_type": "code",
   "execution_count": 102,
   "metadata": {},
   "outputs": [
    {
     "data": {
      "text/plain": [
       "117"
      ]
     },
     "execution_count": 102,
     "metadata": {},
     "output_type": "execute_result"
    }
   ],
   "source": [
    "F12345 = {k : v for k, v in F1234.items() if angle(v,60)[0] == 1} #Pedestrian and veh angle\n",
    "F12345IDs = list(F12345.keys())\n",
    "\n",
    "len(F12345IDs)"
   ]
  },
  {
   "cell_type": "code",
   "execution_count": null,
   "metadata": {},
   "outputs": [],
   "source": []
  },
  {
   "cell_type": "code",
   "execution_count": 91,
   "metadata": {},
   "outputs": [
    {
     "data": {
      "text/plain": [
       "55"
      ]
     },
     "execution_count": 91,
     "metadata": {},
     "output_type": "execute_result"
    }
   ],
   "source": [
    "F123456 = {k : v for k, v in F12345.items() if angleCar(v,60)[0] == 1} #veh direction changes\n",
    "F123456IDs = list(F123456.keys())\n",
    "\n",
    "len(F123456IDs)"
   ]
  },
  {
   "cell_type": "code",
   "execution_count": 95,
   "metadata": {},
   "outputs": [
    {
     "data": {
      "image/png": "[encoded data removed]",
      "text/plain": [
       "<Figure size 1152x576 with 1 Axes>"
      ]
     },
     "metadata": {
      "needs_background": "light"
     },
     "output_type": "display_data"
    }
   ],
   "source": [
    "dfs = F123456\n",
    "dfID = F123456IDs\n",
    "fig = plt.figure(figsize=(16,8))\n",
    "ax = fig.add_subplot(538)\n",
    "\n",
    "instance = 30\n",
    "xVeh = dfs[dfID[instance]]['x_GF_SDC']\n",
    "yVeh = dfs[dfID[instance]]['y_GF_SDC']\n",
    "xPed =  dfs[dfID[instance]]['px_GF']\n",
    "yPed =  dfs[dfID[instance]]['py_GF']\n",
    "Xlim = (min(min(xVeh),min(xPed)), max(max(xPed),max(xVeh)))\n",
    "Ylim = (min(min(yVeh),min(yPed)), max(max(yPed),max(yVeh)))\n",
    "\n",
    "ax.set(xlim = Xlim, ylim = Ylim)\n",
    "ax.scatter(xPed,yPed ,s=1, c='g', label='Pedestrian')\n",
    "\n",
    "ax.scatter(xVeh,yVeh ,s=1, c='b', label='LIDAR Top')\n",
    "    \n",
    "plt.show()"
   ]
  },
  {
   "cell_type": "code",
   "execution_count": 96,
   "metadata": {},
   "outputs": [
    {
     "name": "stdout",
     "output_type": "stream",
     "text": [
      "Distance in x axis: 17.31110033625191\n",
      "Distance in y axis: 0.355604008274895\n",
      "Pedestrian angle: 1\u0007ngle: 242.4615272130198\n",
      "Pedestrian distance covered: 23.463187862749418\n",
      "File ID: 0002_11126313430116606120_1439_990_1459_990\n"
     ]
    }
   ],
   "source": [
    "zero = min( dfs[dfID[instance]]['y'],key = abs)\n",
    "dist =  dfs[dfID[instance]][ dfs[dfID[instance]]['y']==zero]['x'].values[0]\n",
    "ID =  dfs[dfID[instance]]['Segment ID'][0]\n",
    "X = max( dfs[dfID[instance]]['px_GF']) - min( dfs[dfID[instance]]['px_GF'])\n",
    "Y = max( dfs[dfID[instance]]['py_GF']) - min( dfs[dfID[instance]]['py_GF'])\n",
    "ang = angle(dfs[dfID[instance]],45)\n",
    "\n",
    "walked = np.sqrt(X**2+Y**2)\n",
    "print (f'Distance in x axis: {dist}\\nDistance in y axis: {zero}'\n",
    "       f'\\nPedestrian angle: {ang[0]}'\n",
    "       f'\\angle: {ang[1]}'\n",
    "       f'\\nPedestrian distance covered: {walked}'\n",
    "       f'\\nFile ID: {ID}')"
   ]
  },
  {
   "cell_type": "code",
   "execution_count": 295,
   "metadata": {},
   "outputs": [],
   "source": [
    "# # get unique segment files of intersected trajectories and copy to system\n",
    "\n",
    "# segmentID = pd.Series()\n",
    "# for i in range(len(CCrossIDs)):\n",
    "#     ID = pd.Series(CarCrossPeds[CCrossIDs[i]]['Segment ID'][0])\n",
    "#     segmentID = segmentID.append(ID)\n",
    "    \n",
    "\n",
    "# len(segmentID.unique())\n",
    "\n",
    "# src_folder = '/media/arash/My Book/waymo'#'./waymo-od/data'\n",
    "# dest_folder = '/home/arash/PedVid/waymo-od/IntersectingData'\n",
    "\n",
    "# def scan(folder,fileID,lst):   #get all file names      \n",
    "#     for path,dirs,files in os.walk(folder):\n",
    "#         for f in files:\n",
    "#             if fileID[5:] in f:\n",
    "#                 lst.append(os.path.join(path,f))\n",
    "#     return(lst)\n",
    "\n",
    "# lst = []\n",
    "# for fileID in segmentID.unique():\n",
    "#     lst = scan(src_folder,fileID,lst)\n",
    "    \n",
    "    \n",
    "\n",
    "# for file_name in lst:\n",
    "#     shutil.copy(file_name, dest_folder)"
   ]
  },
  {
   "cell_type": "code",
   "execution_count": null,
   "metadata": {},
   "outputs": [],
   "source": []
  }
 ],
 "metadata": {
  "kernelspec": {
   "display_name": "Python 3",
   "language": "python",
   "name": "python3"
  },
  "language_info": {
   "codemirror_mode": {
    "name": "ipython",
    "version": 3
   },
   "file_extension": ".py",
   "mimetype": "text/x-python",
   "name": "python",
   "nbconvert_exporter": "python",
   "pygments_lexer": "ipython3",
   "version": "3.6.9"
  }
 },
 "nbformat": 4,
 "nbformat_minor": 4
}
