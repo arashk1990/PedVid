{
 "cells": [
  {
   "cell_type": "code",
   "execution_count": 1,
   "metadata": {},
   "outputs": [],
   "source": [
    "import tensorflow as tf\n",
    "tf.enable_eager_execution()\n",
    "import time\n",
    "import pickle\n",
    "from CleaningFunctions import *"
   ]
  },
  {
   "cell_type": "code",
   "execution_count": 2,
   "metadata": {},
   "outputs": [
    {
     "name": "stdout",
     "output_type": "stream",
     "text": [
      "WARNING:tensorflow:From /home/arash/.local/lib/python3.6/site-packages/waymo_open_dataset/utils/range_image_utils.py:59: The name tf.unsorted_segment_max is deprecated. Please use tf.math.unsorted_segment_max instead.\n",
      "\n",
      "WARNING:tensorflow:From /home/arash/.local/lib/python3.6/site-packages/waymo_open_dataset/utils/range_image_utils.py:226: The name tf.unsorted_segment_min is deprecated. Please use tf.math.unsorted_segment_min instead.\n",
      "\n"
     ]
    }
   ],
   "source": [
    "from waymo_open_dataset.utils import range_image_utils\n",
    "from waymo_open_dataset.utils import transform_utils\n",
    "from waymo_open_dataset.utils import  frame_utils\n",
    "from waymo_open_dataset import dataset_pb2 as open_dataset"
   ]
  },
  {
   "cell_type": "code",
   "execution_count": 3,
   "metadata": {},
   "outputs": [],
   "source": [
    "# get all segment file names and save in Filenames\n",
    "folder = './waymo-od/data'\n",
    "\n",
    "Filenames=scan(folder)"
   ]
  },
  {
   "cell_type": "code",
   "execution_count": 6,
   "metadata": {},
   "outputs": [
    {
     "name": "stdout",
     "output_type": "stream",
     "text": [
      "File 0 Saved, Process Time: 2.7466614200000024\n",
      "File 1 Saved, Process Time: 9.569592573000001\n"
     ]
    }
   ],
   "source": [
    "### Extract segment files in Frames, each file consists of multiple frames\n",
    "\n",
    "ObjectType = 2   #object codes, unknown:0, veh:1, ped:2, sign:3, bike:4   \n",
    "count = len(Filenames)\n",
    "\n",
    "\n",
    "for i in range(int(count/3)):     #read files three by three\n",
    "    runtime0 = time.process_time()\n",
    "    Frames = {}\n",
    "    for file in Filenames[3*i:(3*i+3)]:\n",
    "        SegID = getID(file)\n",
    "        Segment = []\n",
    "        dataset = tf.data.TFRecordDataset(file, compression_type='')\n",
    "        for data in dataset:\n",
    "            frame = open_dataset.Frame()\n",
    "            frame.ParseFromString(bytearray(data.numpy()))\n",
    "            Segment.append(frame)\n",
    "        Frames[SegID] = Segment\n",
    "        \n",
    "    ObjData = MultiFrame(Frames,ObjectType)\n",
    "    fileNumber = getID(file)[0:4]\n",
    "    name = f\"PedTables/File_{fileNumber}_Iterate_{3*i}:{3*i+3}.p\"\n",
    "    with open(name, 'wb') as fp:\n",
    "        pickle.dump(ObjData, fp)\n",
    "        \n",
    "    runtime1 = time.process_time()\n",
    "    print(f\"File {i} Saved, Process Time: {runtime1 - runtime0}\")\n",
    "    del ObjData\n",
    "    del Frames\n",
    "  \n"
   ]
  },
  {
   "cell_type": "code",
   "execution_count": null,
   "metadata": {},
   "outputs": [],
   "source": []
  },
  {
   "cell_type": "code",
   "execution_count": null,
   "metadata": {},
   "outputs": [],
   "source": []
  },
  {
   "cell_type": "code",
   "execution_count": null,
   "metadata": {},
   "outputs": [],
   "source": []
  },
  {
   "cell_type": "code",
   "execution_count": null,
   "metadata": {},
   "outputs": [],
   "source": []
  },
  {
   "cell_type": "code",
   "execution_count": null,
   "metadata": {},
   "outputs": [],
   "source": []
  },
  {
   "cell_type": "code",
   "execution_count": null,
   "metadata": {},
   "outputs": [],
   "source": []
  },
  {
   "cell_type": "code",
   "execution_count": null,
   "metadata": {},
   "outputs": [],
   "source": []
  },
  {
   "cell_type": "code",
   "execution_count": null,
   "metadata": {},
   "outputs": [],
   "source": [
    "## Open later\n",
    "#with open('PedTables/File_0001_Iterate_0:3.p', 'rb') as fp:\n",
    "#    PedData = pickle.load(fp)\n",
    "#PedIDs = list(PedData.keys())\n",
    "#PedData[PedIDs[0]]"
   ]
  },
  {
   "cell_type": "code",
   "execution_count": null,
   "metadata": {},
   "outputs": [],
   "source": []
  },
  {
   "cell_type": "code",
   "execution_count": null,
   "metadata": {},
   "outputs": [],
   "source": []
  },
  {
   "cell_type": "code",
   "execution_count": null,
   "metadata": {},
   "outputs": [],
   "source": []
  },
  {
   "cell_type": "code",
   "execution_count": null,
   "metadata": {},
   "outputs": [],
   "source": []
  },
  {
   "cell_type": "code",
   "execution_count": null,
   "metadata": {},
   "outputs": [],
   "source": []
  },
  {
   "cell_type": "code",
   "execution_count": null,
   "metadata": {},
   "outputs": [],
   "source": []
  },
  {
   "cell_type": "code",
   "execution_count": null,
   "metadata": {},
   "outputs": [],
   "source": []
  },
  {
   "cell_type": "code",
   "execution_count": null,
   "metadata": {},
   "outputs": [],
   "source": []
  },
  {
   "cell_type": "code",
   "execution_count": null,
   "metadata": {},
   "outputs": [],
   "source": []
  },
  {
   "cell_type": "code",
   "execution_count": null,
   "metadata": {},
   "outputs": [],
   "source": []
  }
 ],
 "metadata": {
  "kernelspec": {
   "display_name": "Python 3",
   "language": "python",
   "name": "python3"
  },
  "language_info": {
   "codemirror_mode": {
    "name": "ipython",
    "version": 3
   },
   "file_extension": ".py",
   "mimetype": "text/x-python",
   "name": "python",
   "nbconvert_exporter": "python",
   "pygments_lexer": "ipython3",
   "version": "3.6.8"
  }
 },
 "nbformat": 4,
 "nbformat_minor": 4
}
