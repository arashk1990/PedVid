{
 "cells": [
  {
   "cell_type": "code",
   "execution_count": 1,
   "metadata": {},
   "outputs": [],
   "source": [
    "import os\n",
    "import tensorflow as tf\n",
    "tf.enable_eager_execution()\n",
    "\n",
    "import math\n",
    "import numpy as np\n",
    "import itertools\n",
    "import collections\n"
   ]
  },
  {
   "cell_type": "code",
   "execution_count": 2,
   "metadata": {},
   "outputs": [
    {
     "name": "stdout",
     "output_type": "stream",
     "text": [
      "WARNING:tensorflow:From /home/arash/.local/lib/python3.6/site-packages/waymo_open_dataset/utils/range_image_utils.py:59: The name tf.unsorted_segment_max is deprecated. Please use tf.math.unsorted_segment_max instead.\n",
      "\n",
      "WARNING:tensorflow:From /home/arash/.local/lib/python3.6/site-packages/waymo_open_dataset/utils/range_image_utils.py:226: The name tf.unsorted_segment_min is deprecated. Please use tf.math.unsorted_segment_min instead.\n",
      "\n"
     ]
    }
   ],
   "source": [
    "from waymo_open_dataset.utils import range_image_utils\n",
    "from waymo_open_dataset.utils import transform_utils\n",
    "from waymo_open_dataset.utils import  frame_utils\n",
    "from waymo_open_dataset import dataset_pb2 as open_dataset"
   ]
  },
  {
   "cell_type": "code",
   "execution_count": 3,
   "metadata": {},
   "outputs": [],
   "source": [
    "# get all segment file names and save in Filenames\n",
    "def scantext():        \n",
    "    x=[]\n",
    "    for path,dirs,files in os.walk('./waymo-od/data'):\n",
    "        for f in files:\n",
    "            if f.startswith('segment'):\n",
    "                x.append(os.path.join(path,f))\n",
    "    return(x)\n",
    "\n",
    "\n",
    "\n",
    "Filenames=scantext()"
   ]
  },
  {
   "cell_type": "code",
   "execution_count": null,
   "metadata": {},
   "outputs": [],
   "source": [
    "### Extract segment files in Frames, each file consists of multiple frames\n",
    "\n",
    "Frames = []\n",
    "for file in Filenames[0:1]:\n",
    "    dataset = tf.data.TFRecordDataset(file, compression_type='')\n",
    "    for data in dataset:\n",
    "        frame = open_dataset.Frame()\n",
    "        frame.ParseFromString(bytearray(data.numpy()))\n",
    "        Frames.append(frame)"
   ]
  },
  {
   "cell_type": "markdown",
   "metadata": {},
   "source": [
    "## Each frame includes:\n",
    "#### 1. ***context***: similar for all the frames in one segment\n",
    "#### 2. ***timestamp_micros*** : should be devided to 1000000\n",
    "#### 3. ***pose***\n",
    "#### 4. ***laser_labels*** : includes\n",
    "#### 5. ***camera_labels***"
   ]
  },
  {
   "cell_type": "code",
   "execution_count": 44,
   "metadata": {},
   "outputs": [],
   "source": [
    "def CountLLabels(frame):    #number of laser labels in a frame\n",
    "    return len(frame.laser_labels)\n",
    "\n"
   ]
  },
  {
   "cell_type": "code",
   "execution_count": 104,
   "metadata": {},
   "outputs": [],
   "source": [
    "pedLoc = collections.defaultdict(list)\n",
    "pedMeta = collections.defaultdict(list)\n",
    "for i in range(len(Frames)):\n",
    "    t = (Frames[i].timestamp_micros/1000000)                       #time\n",
    "    Nlabels = CountLLabels(Frames[i])                              # number of laser labels\n",
    "    for j in range(Nlabels):\n",
    "        \n",
    "        if Frames[i].laser_labels[j].type == 2:                    # type 2: pedestrian\n",
    "            PedID = Frames[i].laser_labels[j].id\n",
    "            \n",
    "            pedLoc[PedID].append(t)\n",
    "            pedLoc[PedID].append(Frames[i].laser_labels[j].box)\n",
    "            \n",
    "            pedMeta[PedID].append(t)\n",
    "            pedMeta[PedID].append(Frames[i].laser_labels[j].metadata)\n",
    "\n",
    "                \n",
    "                    \n",
    "            \n",
    "            "
   ]
  },
  {
   "cell_type": "code",
   "execution_count": 91,
   "metadata": {},
   "outputs": [],
   "source": []
  },
  {
   "cell_type": "code",
   "execution_count": null,
   "metadata": {},
   "outputs": [],
   "source": []
  },
  {
   "cell_type": "code",
   "execution_count": null,
   "metadata": {},
   "outputs": [],
   "source": []
  },
  {
   "cell_type": "code",
   "execution_count": 46,
   "metadata": {},
   "outputs": [
    {
     "data": {
      "text/plain": [
       "397"
      ]
     },
     "execution_count": 46,
     "metadata": {},
     "output_type": "execute_result"
    }
   ],
   "source": []
  },
  {
   "cell_type": "code",
   "execution_count": null,
   "metadata": {},
   "outputs": [],
   "source": []
  },
  {
   "cell_type": "code",
   "execution_count": null,
   "metadata": {},
   "outputs": [],
   "source": []
  },
  {
   "cell_type": "code",
   "execution_count": null,
   "metadata": {},
   "outputs": [],
   "source": []
  },
  {
   "cell_type": "code",
   "execution_count": null,
   "metadata": {},
   "outputs": [],
   "source": []
  },
  {
   "cell_type": "code",
   "execution_count": null,
   "metadata": {},
   "outputs": [],
   "source": []
  }
 ],
 "metadata": {
  "kernelspec": {
   "display_name": "Python 3",
   "language": "python",
   "name": "python3"
  },
  "language_info": {
   "codemirror_mode": {
    "name": "ipython",
    "version": 3
   },
   "file_extension": ".py",
   "mimetype": "text/x-python",
   "name": "python",
   "nbconvert_exporter": "python",
   "pygments_lexer": "ipython3",
   "version": "3.6.8"
  }
 },
 "nbformat": 4,
 "nbformat_minor": 4
}
