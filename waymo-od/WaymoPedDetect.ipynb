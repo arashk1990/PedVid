{
 "cells": [
  {
   "cell_type": "code",
   "execution_count": 1,
   "metadata": {},
   "outputs": [],
   "source": [
    "import os\n",
    "import tensorflow as tf\n",
    "tf.enable_eager_execution()\n",
    "\n",
    "import math\n",
    "import numpy as np\n",
    "import itertools"
   ]
  },
  {
   "cell_type": "code",
   "execution_count": 2,
   "metadata": {},
   "outputs": [
    {
     "name": "stdout",
     "output_type": "stream",
     "text": [
      "WARNING:tensorflow:From /home/arash/.local/lib/python3.6/site-packages/waymo_open_dataset/utils/range_image_utils.py:59: The name tf.unsorted_segment_max is deprecated. Please use tf.math.unsorted_segment_max instead.\n",
      "\n",
      "WARNING:tensorflow:From /home/arash/.local/lib/python3.6/site-packages/waymo_open_dataset/utils/range_image_utils.py:226: The name tf.unsorted_segment_min is deprecated. Please use tf.math.unsorted_segment_min instead.\n",
      "\n"
     ]
    }
   ],
   "source": [
    "from waymo_open_dataset.utils import range_image_utils\n",
    "from waymo_open_dataset.utils import transform_utils\n",
    "from waymo_open_dataset.utils import  frame_utils\n",
    "from waymo_open_dataset import dataset_pb2 as open_dataset"
   ]
  },
  {
   "cell_type": "code",
   "execution_count": 3,
   "metadata": {},
   "outputs": [],
   "source": [
    "def scantext():                                                       #text files of VR data\n",
    "    x=[]\n",
    "    for path,dirs,files in os.walk('./waymo-od/data'):\n",
    "        for f in files:\n",
    "            if f.startswith('segment'):\n",
    "                x.append(os.path.join(path,f))\n",
    "    return(x)\n",
    "\n",
    "\n",
    "\n",
    "alltext=scantext()"
   ]
  },
  {
   "cell_type": "code",
   "execution_count": 4,
   "metadata": {},
   "outputs": [
    {
     "data": {
      "text/plain": [
       "['./waymo-od/data/training_0000/segment-10153695247769592104_787_000_807_000_with_camera_labels.tfrecord',\n",
       " './waymo-od/data/training_0000/segment-10231929575853664160_1160_000_1180_000_with_camera_labels.tfrecord',\n",
       " './waymo-od/data/training_0000/segment-10075870402459732738_1060_000_1080_000_with_camera_labels.tfrecord',\n",
       " './waymo-od/data/training_0000/segment-10023947602400723454_1120_000_1140_000_with_camera_labels.tfrecord',\n",
       " './waymo-od/data/training_0000/segment-10082223140073588526_6140_000_6160_000_with_camera_labels.tfrecord',\n",
       " './waymo-od/data/training_0000/segment-10094743350625019937_3420_000_3440_000_with_camera_labels.tfrecord',\n",
       " './waymo-od/data/training_0000/segment-10072231702153043603_5725_000_5745_000_with_camera_labels.tfrecord',\n",
       " './waymo-od/data/training_0000/segment-10072140764565668044_4060_000_4080_000_with_camera_labels.tfrecord',\n",
       " './waymo-od/data/training_0000/segment-10235335145367115211_5420_000_5440_000_with_camera_labels.tfrecord',\n",
       " './waymo-od/data/training_0000/segment-10241508783381919015_2889_360_2909_360_with_camera_labels.tfrecord',\n",
       " './waymo-od/data/training_0000/segment-10226164909075980558_180_000_200_000_with_camera_labels.tfrecord',\n",
       " './waymo-od/data/training_0000/segment-10017090168044687777_6380_000_6400_000_with_camera_labels.tfrecord',\n",
       " './waymo-od/data/training_0000/segment-10275144660749673822_5755_561_5775_561_with_camera_labels.tfrecord',\n",
       " './waymo-od/data/training_0000/segment-1022527355599519580_4866_960_4886_960_with_camera_labels.tfrecord',\n",
       " './waymo-od/data/training_0000/segment-10212406498497081993_5300_000_5320_000_with_camera_labels.tfrecord',\n",
       " './waymo-od/data/training_0000/segment-10096619443888687526_2820_000_2840_000_with_camera_labels.tfrecord',\n",
       " './waymo-od/data/training_0000/segment-10206293520369375008_2796_800_2816_800_with_camera_labels.tfrecord',\n",
       " './waymo-od/data/training_0000/segment-10107710434105775874_760_000_780_000_with_camera_labels.tfrecord',\n",
       " './waymo-od/data/training_0000/segment-10061305430875486848_1080_000_1100_000_with_camera_labels.tfrecord',\n",
       " './waymo-od/data/training_0000/segment-10327752107000040525_1120_000_1140_000_with_camera_labels.tfrecord',\n",
       " './waymo-od/data/training_0000/segment-1005081002024129653_5313_150_5333_150_with_camera_labels.tfrecord']"
      ]
     },
     "execution_count": 4,
     "metadata": {},
     "output_type": "execute_result"
    }
   ],
   "source": [
    "alltext"
   ]
  },
  {
   "cell_type": "code",
   "execution_count": null,
   "metadata": {},
   "outputs": [],
   "source": []
  }
 ],
 "metadata": {
  "kernelspec": {
   "display_name": "Python 3",
   "language": "python",
   "name": "python3"
  },
  "language_info": {
   "codemirror_mode": {
    "name": "ipython",
    "version": 3
   },
   "file_extension": ".py",
   "mimetype": "text/x-python",
   "name": "python",
   "nbconvert_exporter": "python",
   "pygments_lexer": "ipython3",
   "version": "3.6.8"
  }
 },
 "nbformat": 4,
 "nbformat_minor": 4
}
