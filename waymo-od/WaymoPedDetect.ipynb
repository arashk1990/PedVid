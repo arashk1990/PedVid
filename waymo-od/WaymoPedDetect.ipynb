{
 "cells": [
  {
   "cell_type": "code",
   "execution_count": 10,
   "metadata": {},
   "outputs": [],
   "source": [
    "import os\n",
    "import tensorflow as tf\n",
    "tf.enable_eager_execution()\n",
    "import pandas as pd\n",
    "import math\n",
    "import numpy as np\n",
    "import itertools\n",
    "import collections\n",
    "from datetime import datetime\n",
    "import pickle"
   ]
  },
  {
   "cell_type": "code",
   "execution_count": 2,
   "metadata": {},
   "outputs": [
    {
     "name": "stdout",
     "output_type": "stream",
     "text": [
      "WARNING:tensorflow:From /home/arash/.local/lib/python3.6/site-packages/waymo_open_dataset/utils/range_image_utils.py:59: The name tf.unsorted_segment_max is deprecated. Please use tf.math.unsorted_segment_max instead.\n",
      "\n",
      "WARNING:tensorflow:From /home/arash/.local/lib/python3.6/site-packages/waymo_open_dataset/utils/range_image_utils.py:226: The name tf.unsorted_segment_min is deprecated. Please use tf.math.unsorted_segment_min instead.\n",
      "\n"
     ]
    }
   ],
   "source": [
    "from waymo_open_dataset.utils import range_image_utils\n",
    "from waymo_open_dataset.utils import transform_utils\n",
    "from waymo_open_dataset.utils import  frame_utils\n",
    "from waymo_open_dataset import dataset_pb2 as open_dataset"
   ]
  },
  {
   "cell_type": "code",
   "execution_count": 3,
   "metadata": {},
   "outputs": [],
   "source": [
    "# get all segment file names and save in Filenames\n",
    "def scan(folder):        \n",
    "    x=[]\n",
    "    for path,dirs,files in os.walk(folder):\n",
    "        for f in files:\n",
    "            if f.startswith('segment'):\n",
    "                x.append(os.path.join(path,f))\n",
    "    return(x)\n",
    "\n",
    "folder = './waymo-od/data'\n",
    "\n",
    "Filenames=scan(folder)"
   ]
  },
  {
   "cell_type": "code",
   "execution_count": 4,
   "metadata": {},
   "outputs": [],
   "source": [
    "def getID(f):         #get the ID of segment from file name\n",
    "    f = f.replace('_with_camera_labels.tfrecord', '')\n",
    "    f = f.split('segment-',1)[1]\n",
    "    return f"
   ]
  },
  {
   "cell_type": "markdown",
   "metadata": {},
   "source": [
    "## Each frame includes:\n",
    "#### 1. ***context***: similar for all the frames in one segment\n",
    "#### 2. ***timestamp_micros*** : should be devided to 1000000\n",
    "#### 3. ***pose***\n",
    "#### 4. ***laser_labels*** : includes\n",
    "#### 5. ***camera_labels***"
   ]
  },
  {
   "cell_type": "code",
   "execution_count": 5,
   "metadata": {},
   "outputs": [],
   "source": [
    "def CountLLabels(frame):    #number of laser labels in a frame\n",
    "    return len(frame.laser_labels)\n",
    "\n",
    "def converttime(t):\n",
    "    t = t/1000000\n",
    "    t = datetime.fromtimestamp(t)\n",
    "    return t"
   ]
  },
  {
   "cell_type": "code",
   "execution_count": 6,
   "metadata": {},
   "outputs": [],
   "source": [
    "def Ped2df(SegID, tstamp, pedLoc, \n",
    "           pedMeta,VehPos,tday,w):\n",
    "    \n",
    "    length = len(pedLoc)\n",
    "    t,px, py, pz,\\\n",
    "    px_GF,py_GF,pz_GF,\\\n",
    "    vx_GF,vy_GF,vz_GF,\\\n",
    "    pw, pl, pht,\\\n",
    "    phd, psx, psy,\\\n",
    "    paccx, paccy = ([] for i in range(18))\n",
    "    \n",
    "    for i in range(length):\n",
    "        t.append(tstamp[i])\n",
    "        pw.append(pedLoc[i].width)       \n",
    "        pl.append(pedLoc[i].length)\n",
    "        pht.append(pedLoc[i].height)\n",
    "        phd.append(pedLoc[i].heading)\n",
    "        psx.append(pedMeta[i].speed_x)\n",
    "        psy.append(pedMeta[i].speed_y)\n",
    "        paccx.append(pedMeta[i].accel_x)\n",
    "        paccy.append(pedMeta[i].accel_y)\n",
    "\n",
    "        # Ped position in Vehicle Frame\n",
    "        PedPoseVF = np.array([pedLoc[i].center_x,\n",
    "                              pedLoc[i].center_y,\n",
    "                              pedLoc[i].center_z,1])\n",
    "        px.append(PedPoseVF[0])\n",
    "        py.append(PedPoseVF[1])\n",
    "        pz.append(PedPoseVF[2])\n",
    "        # Ped position in Global Frame\n",
    "        PedPoseGF = np.matmul(np.reshape(np.array(VehPos[i].transform),[4,4]),PedPoseVF)\n",
    "        px_GF.append(PedPoseGF[0])\n",
    "        py_GF.append(PedPoseGF[1])\n",
    "        pz_GF.append(PedPoseGF[2])\n",
    "        # SDC position in Global Frame\n",
    "        VehPoseGF = np.matmul(np.reshape(np.array(VehPos[i].transform),[4,4]),[0,0,0,1])\n",
    "        vx_GF.append(VehPoseGF[0])\n",
    "        vy_GF.append(VehPoseGF[1])\n",
    "        vz_GF.append(VehPoseGF[2])\n",
    "    \n",
    "    data = np.array([t, px, py, pz,\n",
    "                     px_GF, py_GF, pz_GF,\n",
    "                     vx_GF, vy_GF, vz_GF,\n",
    "                     pw, pl, pht, phd,\n",
    "                     psx, psy, paccx, paccy]).T.tolist()\n",
    "    \n",
    "    columnsnames= ['Timestamp', 'x', 'y', 'z',\n",
    "                   'x_GF', 'y_GF', 'pz_GF',\n",
    "                    'x_GF', 'y_GF', 'z_GF',\n",
    "                   'Width', 'Length','Height','Heading',\n",
    "                   'Speed x','Speed y', 'accel x', 'accel y']\n",
    "    pedDF = pd.DataFrame(data, columns = columnsnames)\n",
    "    \n",
    "    #transform = pedDF['vpose'].apply(pd.Series)\n",
    "    #transform = transform.rename(columns= lambda x: 'AVtransform_' +str(x))\n",
    "    #pedDF = pedDF.drop(columns= 'vpose')\n",
    "    #pedDF = pd.concat([pedDF[:],transform[:]],axis=1)\n",
    "    \n",
    "    pedDF['Weather'] = w\n",
    "    pedDF['Time of Day'] = tday\n",
    "    pedDF['Segment ID'] = SegID\n",
    "    return pedDF\n",
    " "
   ]
  },
  {
   "cell_type": "code",
   "execution_count": 7,
   "metadata": {},
   "outputs": [],
   "source": [
    "def PedExtract(SegID):\n",
    "    pedLoc = collections.defaultdict(list)                             #pedestrians label box\n",
    "    pedMeta = collections.defaultdict(list)                            #pedestrians label metadata\n",
    "    VehPos =  collections.defaultdict(list)                            #SDC transformation matrix\n",
    "    tstamp = collections.defaultdict(list) \n",
    "    tday = Frames[SegID][0].context.stats.time_of_day\n",
    "    w = Frames[SegID][0].context.stats.weather\n",
    "    \n",
    "    for j in range(len(Frames[SegID])):\n",
    "        t = Frames[SegID][j].timestamp_micros                      #timestamp\n",
    "        vpos = Frames[SegID][j].pose                                \n",
    "        Nlabels = CountLLabels(Frames[SegID][j])                   # number of laser labels\n",
    "       \n",
    "        for k in range(Nlabels):\n",
    "            LidarLab = Frames[SegID][j].laser_labels[k]\n",
    "            if  LidarLab.type == 2:                      # type 2: pedestrian\n",
    "                \n",
    "                PedID = LidarLab.id\n",
    "\n",
    "                tstamp[PedID].append(t)\n",
    "                pedLoc[PedID].append(LidarLab.box)\n",
    "\n",
    "                \n",
    "                pedMeta[PedID].append(LidarLab.metadata)\n",
    "                \n",
    "                \n",
    "                VehPos[PedID].append(Frames[SegID][j].pose)\n",
    "    \n",
    "    Ped = {}\n",
    "    for p in list(pedLoc.keys()):\n",
    "        Ped[p] = Ped2df(SegID, tstamp[p], pedLoc[p],\n",
    "                        pedMeta[p],VehPos[p],tday, w)\n",
    "        \n",
    "    \n",
    "    return Ped      "
   ]
  },
  {
   "cell_type": "code",
   "execution_count": 8,
   "metadata": {},
   "outputs": [],
   "source": [
    "def MultiFrame(Frames):\n",
    "    PedTraj = {}\n",
    "    for i in range(len(Frames)):\n",
    "        SegID = list(Frames.keys())[i]\n",
    "        PedTraj.update(PedExtract(SegID))\n",
    "    return PedTraj\n",
    "    "
   ]
  },
  {
   "cell_type": "code",
   "execution_count": 16,
   "metadata": {},
   "outputs": [],
   "source": [
    "### Extract segment files in Frames, each file consists of multiple frames\n",
    "\n",
    "for i in range(2):\n",
    "    Frames = {}\n",
    "    for file in Filenames[3*i:(3*i+3)]:\n",
    "        SegID = getID(file)\n",
    "        Segment = []\n",
    "        dataset = tf.data.TFRecordDataset(file, compression_type='')\n",
    "        for data in dataset:\n",
    "            frame = open_dataset.Frame()\n",
    "            frame.ParseFromString(bytearray(data.numpy()))\n",
    "            Segment.append(frame)\n",
    "        Frames[SegID] = Segment\n",
    "        \n",
    "    PedData = MultiFrame(Frames)\n",
    "    name = f\"PedTables/Iterate:{3*i}_{3*i+3}.p\"\n",
    "    with open(name, 'wb') as fp:\n",
    "        pickle.dump(PedData, fp)\n",
    "    del PedData\n",
    "    del Frames"
   ]
  },
  {
   "cell_type": "code",
   "execution_count": null,
   "metadata": {},
   "outputs": [],
   "source": []
  },
  {
   "cell_type": "code",
   "execution_count": null,
   "metadata": {},
   "outputs": [],
   "source": [
    "## Open later\n",
    "with open('PedTables/Iterate:0_3.p', 'rb') as fp:\n",
    "    PedData = pickle.load(fp)\n",
    "#PedIDs = list(PedData.keys())"
   ]
  },
  {
   "cell_type": "code",
   "execution_count": 17,
   "metadata": {},
   "outputs": [
    {
     "ename": "NameError",
     "evalue": "name 'PedData' is not defined",
     "output_type": "error",
     "traceback": [
      "\u001b[0;31m---------------------------------------------------------------------------\u001b[0m",
      "\u001b[0;31mNameError\u001b[0m                                 Traceback (most recent call last)",
      "\u001b[0;32m<ipython-input-17-ca57abaee10d>\u001b[0m in \u001b[0;36m<module>\u001b[0;34m\u001b[0m\n\u001b[0;32m----> 1\u001b[0;31m \u001b[0mPedData\u001b[0m\u001b[0;34m\u001b[0m\u001b[0;34m\u001b[0m\u001b[0m\n\u001b[0m",
      "\u001b[0;31mNameError\u001b[0m: name 'PedData' is not defined"
     ]
    }
   ],
   "source": [
    "PedData"
   ]
  },
  {
   "cell_type": "code",
   "execution_count": null,
   "metadata": {},
   "outputs": [],
   "source": []
  },
  {
   "cell_type": "code",
   "execution_count": null,
   "metadata": {},
   "outputs": [],
   "source": []
  }
 ],
 "metadata": {
  "kernelspec": {
   "display_name": "Python 3",
   "language": "python",
   "name": "python3"
  },
  "language_info": {
   "codemirror_mode": {
    "name": "ipython",
    "version": 3
   },
   "file_extension": ".py",
   "mimetype": "text/x-python",
   "name": "python",
   "nbconvert_exporter": "python",
   "pygments_lexer": "ipython3",
   "version": "3.6.8"
  }
 },
 "nbformat": 4,
 "nbformat_minor": 4
}
