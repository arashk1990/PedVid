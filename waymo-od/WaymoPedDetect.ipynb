{
 "cells": [
  {
   "cell_type": "code",
   "execution_count": 1,
   "metadata": {},
   "outputs": [],
   "source": [
    "import os\n",
    "import tensorflow as tf\n",
    "tf.enable_eager_execution()\n",
    "import pandas as pd\n",
    "import math\n",
    "import numpy as np\n",
    "import itertools\n",
    "import collections"
   ]
  },
  {
   "cell_type": "code",
   "execution_count": 2,
   "metadata": {},
   "outputs": [
    {
     "name": "stdout",
     "output_type": "stream",
     "text": [
      "WARNING:tensorflow:From /home/arash/.local/lib/python3.6/site-packages/waymo_open_dataset/utils/range_image_utils.py:59: The name tf.unsorted_segment_max is deprecated. Please use tf.math.unsorted_segment_max instead.\n",
      "\n",
      "WARNING:tensorflow:From /home/arash/.local/lib/python3.6/site-packages/waymo_open_dataset/utils/range_image_utils.py:226: The name tf.unsorted_segment_min is deprecated. Please use tf.math.unsorted_segment_min instead.\n",
      "\n"
     ]
    }
   ],
   "source": [
    "from waymo_open_dataset.utils import range_image_utils\n",
    "from waymo_open_dataset.utils import transform_utils\n",
    "from waymo_open_dataset.utils import  frame_utils\n",
    "from waymo_open_dataset import dataset_pb2 as open_dataset"
   ]
  },
  {
   "cell_type": "code",
   "execution_count": 3,
   "metadata": {},
   "outputs": [],
   "source": [
    "# get all segment file names and save in Filenames\n",
    "def scan(folder):        \n",
    "    x=[]\n",
    "    for path,dirs,files in os.walk(folder):\n",
    "        for f in files:\n",
    "            if f.startswith('segment'):\n",
    "                x.append(os.path.join(path,f))\n",
    "    return(x)\n",
    "\n",
    "folder = './waymo-od/data'\n",
    "\n",
    "Filenames=scan(folder)"
   ]
  },
  {
   "cell_type": "code",
   "execution_count": null,
   "metadata": {},
   "outputs": [],
   "source": []
  },
  {
   "cell_type": "code",
   "execution_count": 4,
   "metadata": {},
   "outputs": [],
   "source": [
    "def getID(f):         #get the ID of segment from file name\n",
    "    f = f.replace('_with_camera_labels.tfrecord', '')\n",
    "    f = f.split('segment-',1)[1]\n",
    "    return f"
   ]
  },
  {
   "cell_type": "code",
   "execution_count": 176,
   "metadata": {},
   "outputs": [],
   "source": [
    "### Extract segment files in Frames, each file consists of multiple frames\n",
    "\n",
    "Frames = {}\n",
    "\n",
    "for file in Filenames[1:2]:\n",
    "    SegID = getID(file)\n",
    "    Segment = []\n",
    "    dataset = tf.data.TFRecordDataset(file, compression_type='')\n",
    "    for data in dataset:\n",
    "        frame = open_dataset.Frame()\n",
    "        frame.ParseFromString(bytearray(data.numpy()))\n",
    "        Segment.append(frame)\n",
    "    Frames[SegID] = Segment"
   ]
  },
  {
   "cell_type": "markdown",
   "metadata": {},
   "source": [
    "## Each frame includes:\n",
    "#### 1. ***context***: similar for all the frames in one segment\n",
    "#### 2. ***timestamp_micros*** : should be devided to 1000000\n",
    "#### 3. ***pose***\n",
    "#### 4. ***laser_labels*** : includes\n",
    "#### 5. ***camera_labels***"
   ]
  },
  {
   "cell_type": "code",
   "execution_count": 177,
   "metadata": {},
   "outputs": [],
   "source": [
    "def CountLLabels(frame):    #number of laser labels in a frame\n",
    "    return len(frame.laser_labels)\n",
    "\n",
    "def converttime(t):\n",
    "    t = t/1000000\n",
    "    t = datetime.fromtimestamp(t)\n",
    "    return t"
   ]
  },
  {
   "cell_type": "code",
   "execution_count": 178,
   "metadata": {},
   "outputs": [],
   "source": [
    "def Ped2df(SegID, tstamp, pedLoc, \n",
    "           pedMeta,VehPos,tday,w):\n",
    "    \n",
    "    length = len(pedLoc)\n",
    "    t, px, py, pz, pw, pl, pht, phd, psx, psy, paccx, paccy, vpose = (\n",
    "        [] for i in range(13)\n",
    "    )\n",
    "    \n",
    "    for i in range(length):\n",
    "        t.append(tstamp[i])\n",
    "        px.append(pedLoc[i].center_x)\n",
    "        py.append(pedLoc[i].center_y)\n",
    "        pz.append(pedLoc[i].center_z)\n",
    "        pw.append(pedLoc[i].width)       \n",
    "        pl.append(pedLoc[i].length)\n",
    "        pht.append(pedLoc[i].height)\n",
    "        phd.append(pedLoc[i].heading)\n",
    "        psx.append(pedMeta[i].speed_x)\n",
    "        psy.append(pedMeta[i].speed_y)\n",
    "        paccx.append(pedMeta[i].accel_x)\n",
    "        paccy.append(pedMeta[i].accel_y)\n",
    "        vpose.append(VehPos[i].transform)\n",
    "        \n",
    "    data = np.array([t, px, py, pz, pw, pl, pht, phd,\n",
    "                     psx, psy, paccx, paccy, vpose]).T.tolist()\n",
    "    columnsnames= ['Timestamp', 'x', 'y', \n",
    "              'z', 'Width', 'Length',\n",
    "              'Height','Heading', 'Speed x',\n",
    "              'Speed y', 'accel x', 'accel y', 'vpose']\n",
    "    pedDF = pd.DataFrame(data, columns = columnsnames)\n",
    "    \n",
    "    transform = pedDF['vpose'].apply(pd.Series)\n",
    "    transform = transform.rename(columns= lambda x: 'AVtransform_' +str(x))\n",
    "    pedDF = pedDF.drop(columns= 'vpose')\n",
    "    pedDF = pd.concat([pedDF[:],transform[:]],axis=1)\n",
    "    \n",
    "    pedDF['Weather'] = w\n",
    "    pedDF['Time of Day'] = tday\n",
    "    pedDF['Segment ID'] = SegID\n",
    "    return pedDF\n",
    " "
   ]
  },
  {
   "cell_type": "code",
   "execution_count": 181,
   "metadata": {},
   "outputs": [],
   "source": [
    "def PedExtract(SegID):\n",
    "    pedLoc = collections.defaultdict(list)                             #pedestrians label box\n",
    "    pedMeta = collections.defaultdict(list)                            #pedestrians label metadata\n",
    "    VehPos =  collections.defaultdict(list)                            #ego veh pose\n",
    "    tstamp = collections.defaultdict(list) \n",
    "    tday = Frames[SegID][0].context.stats.time_of_day\n",
    "    w = Frames[SegID][0].context.stats.weather\n",
    "    \n",
    "    for j in range(len(Frames[SegID])):\n",
    "        t = Frames[SegID][j].timestamp_micros                      #timestamp\n",
    "        vpos = Frames[SegID][j].pose                                #Vehicle position\n",
    "        Nlabels = CountLLabels(Frames[SegID][j])                   # number of laser labels\n",
    "       \n",
    "        for k in range(Nlabels):\n",
    "            LidarLab = Frames[SegID][j].laser_labels[k]\n",
    "            if  LidarLab.type == 2:                      # type 2: pedestrian\n",
    "                \n",
    "                PedID = LidarLab.id\n",
    "\n",
    "                tstamp[PedID].append(t)\n",
    "                pedLoc[PedID].append(LidarLab.box)\n",
    "\n",
    "                \n",
    "                pedMeta[PedID].append(LidarLab.metadata)\n",
    "                \n",
    "                \n",
    "                VehPos[PedID].append(Frames[SegID][j].pose)\n",
    "    \n",
    "    Ped = {}\n",
    "    for p in list(pedLoc.keys()):\n",
    "        Ped[p] = Ped2df(SegID, tstamp[p], pedLoc[p],\n",
    "                        pedMeta[p],VehPos[p],tday, w)\n",
    "        \n",
    "    \n",
    "    return Ped      "
   ]
  },
  {
   "cell_type": "code",
   "execution_count": null,
   "metadata": {},
   "outputs": [],
   "source": []
  },
  {
   "cell_type": "code",
   "execution_count": null,
   "metadata": {},
   "outputs": [],
   "source": [
    "for i in range(len(Frames)):\n",
    "    SegID = list(Frames.keys())[i]\n",
    "    PedExtract(SegID)\n",
    "    "
   ]
  },
  {
   "cell_type": "code",
   "execution_count": 81,
   "metadata": {},
   "outputs": [],
   "source": [
    "px, py, pz, pl, pht, phd, psx, psy, paccx, paccy, vpose = ([] for i in range(11))"
   ]
  },
  {
   "cell_type": "code",
   "execution_count": null,
   "metadata": {},
   "outputs": [],
   "source": [
    "Frames[SegID][0].context.time_of_day\n",
    "Frames[SegID][0].context.weather\n"
   ]
  },
  {
   "cell_type": "code",
   "execution_count": null,
   "metadata": {},
   "outputs": [],
   "source": [
    "list(Frames[SegID][0].context.stats.laser_object_counts)"
   ]
  },
  {
   "cell_type": "code",
   "execution_count": null,
   "metadata": {},
   "outputs": [],
   "source": [
    "np.reshape(np.array(Frames[SegID][0].pose.transform), [4, 4])"
   ]
  },
  {
   "cell_type": "code",
   "execution_count": null,
   "metadata": {},
   "outputs": [],
   "source": []
  },
  {
   "cell_type": "code",
   "execution_count": null,
   "metadata": {},
   "outputs": [],
   "source": []
  },
  {
   "cell_type": "code",
   "execution_count": null,
   "metadata": {},
   "outputs": [],
   "source": []
  },
  {
   "cell_type": "code",
   "execution_count": null,
   "metadata": {},
   "outputs": [],
   "source": []
  },
  {
   "cell_type": "code",
   "execution_count": null,
   "metadata": {},
   "outputs": [],
   "source": []
  }
 ],
 "metadata": {
  "kernelspec": {
   "display_name": "Python 3",
   "language": "python",
   "name": "python3"
  },
  "language_info": {
   "codemirror_mode": {
    "name": "ipython",
    "version": 3
   },
   "file_extension": ".py",
   "mimetype": "text/x-python",
   "name": "python",
   "nbconvert_exporter": "python",
   "pygments_lexer": "ipython3",
   "version": "3.6.8"
  }
 },
 "nbformat": 4,
 "nbformat_minor": 4
}
